{
 "cells": [
  {
   "cell_type": "code",
   "execution_count": null,
   "id": "ebe30c06",
   "metadata": {},
   "outputs": [],
   "source": [
    "import random"
   ]
  },
  {
   "cell_type": "code",
   "execution_count": null,
   "id": "3bbbec79",
   "metadata": {},
   "outputs": [],
   "source": [
    "words = []\n",
    "letter=\"a\"\n",
    "position=1\n",
    "wordlist=[]\n",
    "with open('words.txt') as w:\n",
    "  words = w.readlines()\n",
    "\n",
    "while letter!='':\n",
    "  del wordlist[:]\n",
    "  letter=input(\"What letter do you know? \")\n",
    "  color=input(\"What color is it? (Y,G,B): \")\n",
    "  if color == 'g' or color == 'G' or color == 'y' or color == 'Y':\n",
    "    position=int(input(\"What position is it? (1-5)\"))-1\n",
    "  for word in words:\n",
    "    if color == 'g' or color == 'G':\n",
    "      if word[position]==letter:\n",
    "        wordlist.append(word)\n",
    "    elif color == 'b' or color == 'B':\n",
    "      if letter not in word:\n",
    "        wordlist.append(word)\n",
    "    elif color == 'y' or color == 'Y':\n",
    "      if letter in word:\n",
    "        if word[position]!=letter:\n",
    "          wordlist.append(word)\n",
    "  words=wordlist.copy()\n",
    "  print(*wordlist)"
   ]
  },
  {
   "cell_type": "code",
   "execution_count": null,
   "id": "b6f0d778",
   "metadata": {},
   "outputs": [],
   "source": []
  }
 ],
 "metadata": {
  "kernelspec": {
   "display_name": "Python 3 (ipykernel)",
   "language": "python",
   "name": "python3"
  },
  "language_info": {
   "codemirror_mode": {
    "name": "ipython",
    "version": 3
   },
   "file_extension": ".py",
   "mimetype": "text/x-python",
   "name": "python",
   "nbconvert_exporter": "python",
   "pygments_lexer": "ipython3",
   "version": "3.9.7"
  }
 },
 "nbformat": 4,
 "nbformat_minor": 5
}
