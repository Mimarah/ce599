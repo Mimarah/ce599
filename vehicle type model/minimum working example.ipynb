{
 "cells": [
  {
   "cell_type": "code",
   "execution_count": 2,
   "id": "503b1574",
   "metadata": {},
   "outputs": [],
   "source": [
    "import pandas as pd\n",
    "import numpy as np\n"
   ]
  },
  {
   "cell_type": "code",
   "execution_count": null,
   "id": "874be9a4",
   "metadata": {},
   "outputs": [],
   "source": [
    "'''\n",
    "these files will be our input and contain household data from NHTS, vehicle cost data\n",
    "and EPA data on body type, fuel type and age\n",
    "\n",
    "'''\n",
    "epa_and_vehiclecost   = pd.read_csv('../inputs/combined epa and veh cost.csv')\n",
    "epa_and_vehiclecost .set_index(\"CHOICE4\",inplace=True,drop=True)\n",
    "NHTS = pd.read_csv('../inputs/NHTS2017.csv')\n",
    "NHTS.set_index(\"HOUSEID\",inplace=True,drop=True)\n",
    "vehf12  = pd.read_csv('../inputs/vehtypef12.csv', usecols= [2,4,5])\n",
    "vehf12.dropna(subset=[\"variable\"],inplace=True)\n",
    "vehf12.set_index(\"variable\",inplace=True,drop=True)\n",
    "vehf12"
   ]
  },
  {
   "cell_type": "code",
   "execution_count": null,
   "id": "ca11d5a7",
   "metadata": {},
   "outputs": [],
   "source": [
    "#should contain variable, coefficien, standard error\n",
    "vehf12"
   ]
  },
  {
   "cell_type": "code",
   "execution_count": null,
   "id": "678c37ff",
   "metadata": {},
   "outputs": [],
   "source": [
    "#starting with income which is the first 6 variables above\n",
    "#defining the columns that give the conditions for HHFAMINC\n",
    "NHTS['INC025'] = 0\n",
    "NHTS['INC025'] = np.where((NHTS['HHFAMINC']>=1) & (NHTS['HHFAMINC']<=3), 1, 0)\n",
    "NHTS['INC2550'] = 0\n",
    "NHTS['INC2550'] = np.where((NHTS['HHFAMINC']>=4) & (NHTS['HHFAMINC']<=5), 1, 0)\n",
    "NHTS['INC50100'] = 0\n",
    "NHTS['INC50100'] = np.where((NHTS['HHFAMINC']>=6) & (NHTS['HHFAMINC']<=7), 1, 0)\n",
    "NHTS['INC100150'] = 0\n",
    "NHTS['INC100150'] = np.where((NHTS['HHFAMINC']>=8) & (NHTS['HHFAMINC']<=9), 1, 0)\n",
    "NHTS['INC150P'] = 0\n",
    "NHTS['INC150P'] = np.where((NHTS['HHFAMINC']>=10), 1, 0)\n",
    "NHTS['INC_MISS'] = 0\n",
    "NHTS['INC_MISS'] = np.where((NHTS['HHFAMINC']<=0), 1, 0)\n",
    "NHTS"
   ]
  },
  {
   "cell_type": "code",
   "execution_count": null,
   "id": "ab159431",
   "metadata": {},
   "outputs": [],
   "source": [
    "'''\n",
    "\n",
    "define a method where we find the utility for each household picking the choice\n",
    "Rows will be the HouseholdID\n",
    "Columns will be the choice for the 500 alternatives\n",
    "Here I wanted to test it out with the first utility equation\n",
    "I am basically using that formula so that it would calculate the utility for all the households in NHTS for choice 1101\n",
    "When I try running this code it loads for a long while then my computer then crashes because it shows me an error page\n",
    "\n",
    "\n",
    "'''\n",
    "\n",
    "def calc_utility(x):\n",
    "    utility = vehf12.loc['i025_age', \"Coefficient\"] * NHTS['INC025'] + vehf12.loc['i2550_age', \"Coefficient\"] * NHTS['INC2550']+ vehf12.loc['i100_age', \"Coefficient\"] * NHTS['INC100150']+ vehf12.loc['i150p_age', \"Coefficient\"] * NHTS['INC150P']\n",
    "    return utility\n",
    "NHTS[\"util_1101\"] = NHTS.apply(calc_utility,axis=1)\n",
    "NHTS\n",
    "    "
   ]
  },
  {
   "cell_type": "code",
   "execution_count": null,
   "id": "cef0edb4",
   "metadata": {},
   "outputs": [],
   "source": []
  },
  {
   "cell_type": "code",
   "execution_count": null,
   "id": "22d39a0f",
   "metadata": {},
   "outputs": [],
   "source": []
  }
 ],
 "metadata": {
  "kernelspec": {
   "display_name": "Python 3 (ipykernel)",
   "language": "python",
   "name": "python3"
  },
  "language_info": {
   "codemirror_mode": {
    "name": "ipython",
    "version": 3
   },
   "file_extension": ".py",
   "mimetype": "text/x-python",
   "name": "python",
   "nbconvert_exporter": "python",
   "pygments_lexer": "ipython3",
   "version": "3.9.7"
  }
 },
 "nbformat": 4,
 "nbformat_minor": 5
}
