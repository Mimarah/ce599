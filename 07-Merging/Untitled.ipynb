{
 "cells": [
  {
   "cell_type": "code",
   "execution_count": 1,
   "id": "a8006634",
   "metadata": {},
   "outputs": [],
   "source": [
    "domestic = ['OW', 'LE', 'RW']\n",
    "def is_international(a):\n",
    "    '''\n",
    "    domestic is a list of two digit IATA codes of US carriers\n",
    "    a represents a two digit IATA code \n",
    "    This method will return false for domestic flights and true for international flights\n",
    "    '''\n",
    "    if a in domestic:\n",
    "        return False\n",
    "    else:\n",
    "        return True"
   ]
  },
  {
   "cell_type": "code",
   "execution_count": 2,
   "id": "dba50b09",
   "metadata": {},
   "outputs": [
    {
     "data": {
      "text/plain": [
       "False"
      ]
     },
     "execution_count": 2,
     "metadata": {},
     "output_type": "execute_result"
    }
   ],
   "source": [
    "\n",
    "is_international('OW')\n"
   ]
  },
  {
   "cell_type": "code",
   "execution_count": null,
   "id": "74c06825",
   "metadata": {},
   "outputs": [],
   "source": []
  }
 ],
 "metadata": {
  "kernelspec": {
   "display_name": "Python 3 (ipykernel)",
   "language": "python",
   "name": "python3"
  },
  "language_info": {
   "codemirror_mode": {
    "name": "ipython",
    "version": 3
   },
   "file_extension": ".py",
   "mimetype": "text/x-python",
   "name": "python",
   "nbconvert_exporter": "python",
   "pygments_lexer": "ipython3",
   "version": "3.9.7"
  }
 },
 "nbformat": 4,
 "nbformat_minor": 5
}
