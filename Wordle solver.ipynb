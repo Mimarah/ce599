{
 "cells": [
  {
   "cell_type": "code",
   "execution_count": 4,
   "id": "f5bc82ba",
   "metadata": {},
   "outputs": [],
   "source": [
    "import random\n",
    "import pandas as pd\n"
   ]
  },
  {
   "cell_type": "code",
   "execution_count": null,
   "id": "5668d4d4",
   "metadata": {},
   "outputs": [],
   "source": [
    "DICT = 'words.txt'\n",
    "ALLOWABLE_CHARACTERS = set(string.ascii_letters)\n",
    "ALLOWED_ATTEMPTS = 6\n",
    "WORD_LENGTH = 5"
   ]
  }
 ],
 "metadata": {
  "kernelspec": {
   "display_name": "Python 3 (ipykernel)",
   "language": "python",
   "name": "python3"
  },
  "language_info": {
   "codemirror_mode": {
    "name": "ipython",
    "version": 3
   },
   "file_extension": ".py",
   "mimetype": "text/x-python",
   "name": "python",
   "nbconvert_exporter": "python",
   "pygments_lexer": "ipython3",
   "version": "3.9.7"
  }
 },
 "nbformat": 4,
 "nbformat_minor": 5
}
